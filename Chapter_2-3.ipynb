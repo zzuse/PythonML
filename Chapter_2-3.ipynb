{
 "cells": [
  {
   "cell_type": "code",
   "execution_count": 2,
   "metadata": {},
   "outputs": [],
   "source": [
    "import mglearn\n",
    "import matplotlib.pyplot as plt\n",
    "import numpy as np"
   ]
  },
  {
   "cell_type": "code",
   "execution_count": 3,
   "metadata": {},
   "outputs": [
    {
     "name": "stdout",
     "output_type": "stream",
     "text": [
      "[[0 1 0 1]\n",
      " [1 0 1 1]\n",
      " [0 0 0 1]\n",
      " [1 0 1 0]]\n"
     ]
    }
   ],
   "source": [
    "X = np.array([[0, 1, 0, 1],\n",
    "            [1, 0, 1, 1],\n",
    "            [0, 0, 0, 1],\n",
    "            [1, 0, 1, 0]])\n",
    "y = np.array([0, 1, 0, 1])\n",
    "print(X)"
   ]
  },
  {
   "cell_type": "code",
   "execution_count": 4,
   "metadata": {},
   "outputs": [
    {
     "name": "stdout",
     "output_type": "stream",
     "text": [
      "label 0\n",
      "----------\n",
      "y [0 1 0 1]\n",
      "----------\n",
      "y == label [ True False  True False]\n",
      "----------\n",
      "X[y == label] [[0 1 0 1]\n",
      " [0 0 0 1]]\n",
      "----------\n",
      "X[y == 0] [[0 1 0 1]\n",
      " [0 0 0 1]]\n",
      "\n",
      "X[y == 1] [[1 0 1 1]\n",
      " [1 0 1 0]]\n",
      "\n",
      "label 1\n",
      "----------\n",
      "y [0 1 0 1]\n",
      "----------\n",
      "y == label [False  True False  True]\n",
      "----------\n",
      "X[y == label] [[1 0 1 1]\n",
      " [1 0 1 0]]\n",
      "----------\n",
      "X[y == 0] [[0 1 0 1]\n",
      " [0 0 0 1]]\n",
      "\n",
      "X[y == 1] [[1 0 1 1]\n",
      " [1 0 1 0]]\n",
      "\n",
      "Feature counts:\n",
      "{0: array([0, 1, 0, 2]), 1: array([2, 0, 2, 1])}\n"
     ]
    }
   ],
   "source": [
    "counts = {}\n",
    "for label in np.unique(y):\n",
    "    print(\"label {}\\n----------\".format(label))\n",
    "    print(\"y {}\\n----------\".format(y))\n",
    "    print(\"y == label {}\\n----------\".format(y == label))\n",
    "    print(\"X[y == label] {}\\n----------\".format(X[y == label]))\n",
    "    print(\"X[y == 0] {}\\n\".format(X[y == 0]))\n",
    "    print(\"X[y == 1] {}\\n\".format(X[y == 1]))\n",
    "    counts[label] = X[y == label].sum(axis=0)\n",
    "print(\"Feature counts:\\n{}\".format(counts))"
   ]
  },
  {
   "cell_type": "code",
   "execution_count": 8,
   "metadata": {},
   "outputs": [
    {
     "data": {
      "image/png": "[encoded data removed]",
      "text/plain": [
       "<Figure size 432x288 with 1 Axes>"
      ]
     },
     "metadata": {
      "needs_background": "light"
     },
     "output_type": "display_data"
    }
   ],
   "source": [
    "mglearn.plots.plot_animal_tree()"
   ]
  },
  {
   "cell_type": "code",
   "execution_count": 11,
   "metadata": {},
   "outputs": [],
   "source": [
    "from sklearn.tree import DecisionTreeClassifier\n",
    "from sklearn.datasets import load_breast_cancer\n",
    "from sklearn.model_selection import train_test_split"
   ]
  },
  {
   "cell_type": "code",
   "execution_count": 12,
   "metadata": {},
   "outputs": [
    {
     "name": "stdout",
     "output_type": "stream",
     "text": [
      "Accuracy on traning set: 1.000\n",
      "Accuracy on test set: 0.937\n"
     ]
    }
   ],
   "source": [
    "cancer = load_breast_cancer()\n",
    "X_train, X_test, y_train, y_test = train_test_split(cancer.data, cancer.target, stratify=cancer.target, random_state=42)\n",
    "tree = DecisionTreeClassifier(random_state=0)\n",
    "tree.fit(X_train, y_train)\n",
    "print(\"Accuracy on traning set: {:.3f}\".format(tree.score(X_train,y_train)))\n",
    "print(\"Accuracy on test set: {:.3f}\".format(tree.score(X_test, y_test)))"
   ]
  },
  {
   "cell_type": "code",
   "execution_count": null,
   "metadata": {},
   "outputs": [],
   "source": []
  }
 ],
 "metadata": {
  "kernelspec": {
   "display_name": "Python 3",
   "language": "python",
   "name": "python3"
  },
  "language_info": {
   "codemirror_mode": {
    "name": "ipython",
    "version": 3
   },
   "file_extension": ".py",
   "mimetype": "text/x-python",
   "name": "python",
   "nbconvert_exporter": "python",
   "pygments_lexer": "ipython3",
   "version": "3.7.1"
  }
 },
 "nbformat": 4,
 "nbformat_minor": 2
}
